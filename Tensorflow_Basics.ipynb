{
 "cells": [
  {
   "cell_type": "markdown",
   "metadata": {},
   "source": [
    "# Tensorflow Basics\n"
   ]
  },
  {
   "cell_type": "code",
   "execution_count": 1,
   "metadata": {},
   "outputs": [],
   "source": [
    "from __future__ import print_function, division\n",
    "from builtins import range\n",
    "import numpy as np\n",
    "import matplotlib.pyplot as plt\n",
    "\n",
    "import tensorflow as tf\n"
   ]
  },
  {
   "cell_type": "markdown",
   "metadata": {},
   "source": [
    "### Basic Tensorflow data types"
   ]
  },
  {
   "cell_type": "markdown",
   "metadata": {},
   "source": [
    "#### Tensorflow constant - These are constant tensors"
   ]
  },
  {
   "cell_type": "code",
   "execution_count": 2,
   "metadata": {},
   "outputs": [
    {
     "name": "stdout",
     "output_type": "stream",
     "text": [
      "Tensor(\"A:0\", shape=(), dtype=int32) \t\t Tensor(\"B:0\", shape=(), dtype=float32)\n",
      "Tensor(\"Const:0\", shape=(5,), dtype=int32) \t Tensor(\"Const_1:0\", shape=(2, 3), dtype=float32)\n",
      "a = 5 b = 5.2\n",
      "c = [1 2 3 4 5]\n",
      "D =\n",
      " [[-1. -1. -1.]\n",
      " [-1. -1. -1.]]\n"
     ]
    }
   ],
   "source": [
    "# Creates constant tensors.\n",
    "a = tf.constant(5, name=\"A\")  # type=int32\n",
    "b = tf.constant(5.2, name=\"B\", dtype=tf.float32)\n",
    "print(a, \"\\t\\t\", b)\n",
    "\n",
    "# Constant 1-D Tensor populated with value list.\n",
    "c = tf.constant([1, 2, 3, 4, 5]) # => [1 2 3 4 5]\n",
    "\n",
    "# Constant 2-D tensor populated with scalar value -1.\n",
    "D = tf.constant(-1.0, shape=[2, 3]) # => [[-1. -1. -1.], [-1. -1. -1.]]\n",
    "print(c, \"\\t\", D)\n",
    "\n",
    "sess = tf.Session()\n",
    "print(\"a =\", sess.run(a), \"b =\", sess.run(b))\n",
    "print(\"c =\", sess.run(c))\n",
    "print(\"D =\\n\", sess.run(D))\n",
    "sess.close()\n"
   ]
  },
  {
   "cell_type": "markdown",
   "metadata": {},
   "source": [
    "### Computational Graphs in TensorFlow\n",
    "\n",
    "Computation in Tensorflow is defined with dataflow graphs. The advantage with this aproach is that the execution model is separated from its execution. Same computation graph can be executed on CPU, GPU, TPU or any combination of these. Once Computational Graphs is implemented, TensorFlow can execute it on any given hardware (execution complexity is taken care by Tensorflow). "
   ]
  },
  {
   "cell_type": "markdown",
   "metadata": {},
   "source": [
    "#### Tensorflow Placeholder - These are placeholder for a tensor.\n",
    "\n",
    "In TensorFlow, placeholder is way to inject data into the computation graph. \n",
    "Its value must be fed using the feed_dict optional argument to Session.run(), Tensor.eval(), or Operation.run()\n",
    "\n",
    "The advantage of placeholders is that they allow creation of computational graph without needing to provide the data in advance. The data can be fed to graph in runtime from external sources."
   ]
  },
  {
   "cell_type": "code",
   "execution_count": 3,
   "metadata": {},
   "outputs": [
    {
     "name": "stdout",
     "output_type": "stream",
     "text": [
      "x =\n",
      " [1. 2. 3. 4.]\n",
      "y =\n",
      " [[0.7205774  0.4490452  0.62983674]\n",
      " [0.61860764 0.42719045 0.34289327]\n",
      " [0.39360616 0.3234309  0.22338091]]\n",
      "z =\n",
      " [[0.7205774  0.4490452  0.62983674]\n",
      " [0.61860764 0.42719045 0.34289327]\n",
      " [0.39360616 0.3234309  0.22338091]]\n",
      "z[0] =\n",
      " [0.7205774  0.4490452  0.62983674]\n",
      "z[0][0] =\n",
      " 0.7205774\n"
     ]
    }
   ],
   "source": [
    "x = tf.placeholder(tf.float32, shape=4)\n",
    "y = tf.placeholder(tf.float32, shape=(3, 3))\n",
    "\n",
    "# If the shape isn’t passed, this tensor can be fed with any shape. \n",
    "z = tf.placeholder(tf.float32)\n",
    "\n",
    "\n",
    "with tf.Session() as sess:\n",
    "    print(\"x =\\n\", sess.run(x, feed_dict={x: [1, 2, 3, 4]}))\n",
    "    array = np.random.rand(3, 3)\n",
    "    print(\"y =\\n\", sess.run(y, feed_dict={y: array}))\n",
    "    print(\"z =\\n\", sess.run(z, feed_dict={z: array}))\n",
    "    # We can use indices with Tensors\n",
    "    print(\"z[0] =\\n\", sess.run(z[0], feed_dict={z: array}))\n",
    "    print(\"z[0][0] =\\n\", sess.run(z[0][0], feed_dict={z: array}))\n"
   ]
  },
  {
   "cell_type": "markdown",
   "metadata": {},
   "source": [
    "### Addition of two matrix in Tensorflow"
   ]
  },
  {
   "cell_type": "code",
   "execution_count": 4,
   "metadata": {},
   "outputs": [
    {
     "name": "stdout",
     "output_type": "stream",
     "text": [
      "\t [1, 2, 3, 4] \n",
      "+\t [5, 6, 7, 8]\n",
      "=\t [ 6  8 10 12]\n"
     ]
    }
   ],
   "source": [
    "a = tf.placeholder(tf.int32, shape=4)\n",
    "b = tf.placeholder(tf.int32, shape=4)\n",
    "\n",
    "# Equation to compute sum, it will compute the equation and assign outputs\n",
    "c = tf.add(a, b)\n",
    "\n",
    "with tf.Session() as session:\n",
    "    print(\"\\t\", [1, 2, 3, 4], \"\\n+\\t\",[5, 6, 7, 8])\n",
    "    print(\"=\\t\", session.run(c, feed_dict={a: [1, 2, 3, 4], b: [5, 6, 7, 8]}))\n"
   ]
  },
  {
   "cell_type": "markdown",
   "metadata": {},
   "source": [
    "### Dot product of two Tensors"
   ]
  },
  {
   "cell_type": "code",
   "execution_count": 5,
   "metadata": {},
   "outputs": [
    {
     "name": "stdout",
     "output_type": "stream",
     "text": [
      "A=\n",
      " [[1 2]\n",
      " [3 4]]\n",
      "v=\n",
      " [5 6]\n",
      "A . v =\t [17 39]\n"
     ]
    }
   ],
   "source": [
    "# we can define a matrix multiplication\n",
    "A = tf.placeholder(tf.int32, shape=(2, 2))\n",
    "b = tf.placeholder(tf.int32, shape=2)\n",
    "# Dot product of A and b\n",
    "w = tf.reduce_sum(tf.multiply(A, b), 1)\n",
    "\n",
    "# let's import numpy so we can create real arrays\n",
    "A_val = np.array([[1,2], [3,4]])\n",
    "v_val = np.array([5,6])\n",
    "\n",
    "print(\"A=\\n\", A_val)\n",
    "print(\"v=\\n\", v_val)\n",
    "with tf.Session() as session:\n",
    "    print(\"A . v =\\t\", session.run(w, feed_dict={A: A_val, b: v_val}))\n"
   ]
  },
  {
   "cell_type": "markdown",
   "metadata": {},
   "source": [
    "### Tensorflow Variable - Variables represent shared, persistent state manipulated by program.\n",
    "\n",
    "Unlike tf.Tensor objects, a tf.Variable exists outside the context of a single session.run call."
   ]
  },
  {
   "cell_type": "code",
   "execution_count": 6,
   "metadata": {},
   "outputs": [
    {
     "name": "stdout",
     "output_type": "stream",
     "text": [
      "<tf.Variable 'P:0' shape=(3, 3) dtype=float32_ref>\n",
      "<tf.Variable 'Q:0' shape=(3, 3) dtype=float32_ref>\n",
      "None\n",
      "Before assignment, p =\n",
      " [[1. 2. 3.]\n",
      " [4. 5. 6.]\n",
      " [7. 8. 9.]]\n",
      "[[9. 8. 7.]\n",
      " [6. 5. 4.]\n",
      " [3. 2. 1.]]\n",
      "After assignment, p =\n",
      " [[9. 8. 7.]\n",
      " [6. 5. 4.]\n",
      " [3. 2. 1.]]\n",
      "[[0.0591979  0.18780138 0.7509941 ]\n",
      " [0.706089   0.12316325 0.12767106]\n",
      " [0.0633887  0.28930205 0.49127215]]\n"
     ]
    }
   ],
   "source": [
    "# Create a variable.\n",
    "p = tf.Variable([[1, 2, 3], [4, 5, 6], [7, 8, 9]], name=\"P\", dtype=tf.float32)\n",
    "q = tf.Variable([[9, 8, 7], [6, 5, 4], [3, 2, 1]], name=\"Q\", dtype=tf.float32)\n",
    "\n",
    "print(p)\n",
    "print(q)\n",
    "\n",
    "init = tf.global_variables_initializer()\n",
    "\n",
    "with tf.Session() as sess:\n",
    "    print(sess.run(init)) # \"run\" the init operation\n",
    "    print(\"Before assignment, p =\\n\", sess.run(p))\n",
    "    print(sess.run(q))\n",
    "    sess.run(p.assign(q))\n",
    "    sess.run(q.assign(np.random.rand(3, 3)))\n",
    "    \n",
    "    print(\"After assignment, p =\\n\", sess.run(p))\n",
    "    print(sess.run(q))\n"
   ]
  },
  {
   "cell_type": "markdown",
   "metadata": {},
   "source": [
    "### Compute y = ax +b"
   ]
  },
  {
   "cell_type": "code",
   "execution_count": 7,
   "metadata": {},
   "outputs": [
    {
     "name": "stdout",
     "output_type": "stream",
     "text": [
      "x =\n",
      " [[0.06197579 0.62424758 0.99894093 0.49289114]\n",
      " [0.14302678 0.11926704 0.91377828 0.02354772]\n",
      " [0.89678956 0.92732595 0.05167654 0.00626998]\n",
      " [0.3494985  0.24039334 0.86795942 0.24668019]]\n",
      "y =\n",
      " [[10.309879 13.121238 14.994705 12.464456]\n",
      " [10.715134 10.596335 14.568892 10.117739]\n",
      " [14.483948 14.63663  10.258383 10.03135 ]\n",
      " [11.747493 11.201967 14.339797 11.233401]]\n"
     ]
    }
   ],
   "source": [
    "# Define coefficients\n",
    "a = tf.constant(5.0, name=\"a\", dtype=tf.float32)\n",
    "b = tf.constant(10.0, name=\"b\", dtype=tf.float32)\n",
    "\n",
    "# Define input placeholder\n",
    "x = tf.placeholder(tf.float32, shape=(4, 4))\n",
    "\n",
    "# Define output \n",
    "y = tf.add(tf.multiply(a, x), b)\n",
    "\n",
    "with tf.Session() as session:\n",
    "    array = np.random.rand(4, 4)\n",
    "    print(\"x =\\n\", array)\n",
    "    print(\"y =\\n\", session.run(y, feed_dict={x: array}))\n"
   ]
  },
  {
   "cell_type": "markdown",
   "metadata": {},
   "source": [
    "### Accumulation"
   ]
  },
  {
   "cell_type": "code",
   "execution_count": 8,
   "metadata": {},
   "outputs": [
    {
     "name": "stdout",
     "output_type": "stream",
     "text": [
      "[ 3  6  9 12]\n"
     ]
    }
   ],
   "source": [
    "# Create placeholder for input\n",
    "inp = tf.placeholder(tf.int32, shape=4)\n",
    "\n",
    "# TensorFlow variables are like Theano shared variables.\n",
    "# But Theano variables are like TensorFlow placeholders.\n",
    "\n",
    "# Create a variable.\n",
    "acc = tf.Variable([0, 0, 0, 0], name=\"Acc\")\n",
    "add = acc + inp\n",
    "\n",
    "init = tf.global_variables_initializer()\n",
    "\n",
    "with tf.Session() as sess:\n",
    "    sess.run(init) # \"run\" the init operation\n",
    "    sess.run(acc.assign(add), feed_dict={inp: [1, 2, 3, 4]})\n",
    "    sess.run(acc.assign(add), feed_dict={inp: [1, 2, 3, 4]})\n",
    "    print(sess.run(acc.assign(add), feed_dict={inp: [1, 2, 3, 4]}))\n"
   ]
  },
  {
   "cell_type": "markdown",
   "metadata": {},
   "source": [
    "### Implementing gradient descent with Tensorflow"
   ]
  },
  {
   "cell_type": "code",
   "execution_count": 9,
   "metadata": {},
   "outputs": [
    {
     "data": {
      "image/png": "[encoded data removed]",
      "text/plain": [
       "<Figure size 432x288 with 1 Axes>"
      ]
     },
     "metadata": {
      "needs_background": "light"
     },
     "output_type": "display_data"
    },
    {
     "name": "stdout",
     "output_type": "stream",
     "text": [
      "Iteration 0 \tcost = 15.190, x = 4.300\n",
      "Iteration 1 \tcost = 3.060, x = 2.020\n",
      "Iteration 2 \tcost = 1.120, x = 1.108\n",
      "Iteration 3 \tcost = 0.809, x = 0.743\n",
      "Iteration 4 \tcost = 0.759, x = 0.597\n",
      "Iteration 5 \tcost = 0.752, x = 0.539\n",
      "Iteration 6 \tcost = 0.750, x = 0.516\n",
      "Iteration 7 \tcost = 0.750, x = 0.506\n",
      "Iteration 8 \tcost = 0.750, x = 0.502\n",
      "Iteration 9 \tcost = 0.750, x = 0.501\n",
      "Iteration 10 \tcost = 0.750, x = 0.500\n",
      "Iteration 11 \tcost = 0.750, x = 0.500\n",
      "Iteration 12 \tcost = 0.750, x = 0.500\n",
      "Iteration 13 \tcost = 0.750, x = 0.500\n",
      "Iteration 14 \tcost = 0.750, x = 0.500\n",
      "Iteration 15 \tcost = 0.750, x = 0.500\n",
      "Iteration 16 \tcost = 0.750, x = 0.500\n",
      "Iteration 17 \tcost = 0.750, x = 0.500\n",
      "Iteration 18 \tcost = 0.750, x = 0.500\n",
      "Iteration 19 \tcost = 0.750, x = 0.500\n",
      "\n",
      "Value of x to minimize the cost function = 0.5000001\n"
     ]
    }
   ],
   "source": [
    "# Let's create a variable so we can do gradient descent\n",
    "# Here, the first argument is variable's initial value, the second is it's name\n",
    "x = tf.Variable(10.0, 'x')\n",
    "\n",
    "# A cost function that has a minimum value\n",
    "cost = x*x - x + 1\n",
    "\n",
    "# Plot the cost function\n",
    "xvals = np.arange(-5, 10, 0.05) # Grid of 0.05 spacing from -5 to 10\n",
    "yvals = xvals*xvals - xvals + 1 # Evaluate function on xvals\n",
    "plt.plot(xvals, yvals) # Create line plot with yvals against xvals\n",
    "plt.xlabel(\"x\")\n",
    "plt.ylabel(\"Cost\")\n",
    "plt.show() # Show the figure\n",
    "\n",
    "# In Tensorflow, you need to choose an optimizer that implements the learning algorithm you want.\n",
    "# Here 0.3 is leaarning rate\n",
    "train_op = tf.train.GradientDescentOptimizer(0.3).minimize(cost)\n",
    "\n",
    "# let's run a session again\n",
    "init = tf.global_variables_initializer()\n",
    "with tf.Session() as session:\n",
    "    session.run(init)\n",
    "\n",
    "    # In Theano, weight updates need to be specified explicitely.\n",
    "    # In Tensorflow, weight update is automatic, but the loop itself is not.\n",
    "    # So we'll just call train_op until convergence.\n",
    "    for i in range(20):\n",
    "        session.run(train_op)\n",
    "        print(\"Iteration\", i, \"\\tcost = %.3f, x = %.3f\" % (cost.eval(), x.eval()))\n",
    "    \n",
    "    # Print the optimal value of x\n",
    "    print(\"\\nValue of x to minimize the cost function =\", x.eval())\n"
   ]
  },
  {
   "cell_type": "code",
   "execution_count": null,
   "metadata": {},
   "outputs": [],
   "source": []
  }
 ],
 "metadata": {
  "kernelspec": {
   "display_name": "Python 3",
   "language": "python",
   "name": "python3"
  },
  "language_info": {
   "codemirror_mode": {
    "name": "ipython",
    "version": 3
   },
   "file_extension": ".py",
   "mimetype": "text/x-python",
   "name": "python",
   "nbconvert_exporter": "python",
   "pygments_lexer": "ipython3",
   "version": "3.6.7"
  }
 },
 "nbformat": 4,
 "nbformat_minor": 2
}
